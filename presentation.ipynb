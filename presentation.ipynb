{
 "cells": [
  {
   "cell_type": "markdown",
   "metadata": {
    "pycharm": {
     "name": "#%%\n"
    },
    "slideshow": {
     "slide_type": "slide"
    }
   },
   "source": [
    "# From Millions of Seconds to Milliseconds: a premier on Python high-performance programming\n",
    "\n",
    "Zach Lowry"
   ]
  },
  {
   "cell_type": "code",
   "execution_count": 14,
   "metadata": {
    "slideshow": {
     "slide_type": "skip"
    }
   },
   "outputs": [],
   "source": [
    "from IPython.core.interactiveshell import InteractiveShell\n",
    "InteractiveShell.ast_node_interactivity = \"all\""
   ]
  },
  {
   "cell_type": "markdown",
   "metadata": {
    "slideshow": {
     "slide_type": "slide"
    }
   },
   "source": [
    "### AHE: Adaptive histogram equalization\n",
    "\n",
    "From [Wikipedia](https://en.wikipedia.org/wiki/Adaptive_histogram_equalization):\n",
    "\n",
    " * AHE is a computer [image processing](https://en.wikipedia.org/wiki/Image_processing) technique used to improve [contrast](https://en.wikipedia.org/wiki/Contrast_(vision)) in images. \n",
    " * It differs from ordinary [histogram equalization](https://en.wikipedia.org/wiki/Histogram_equalization) in the respect that the adaptive method computes several [histograms](https://en.wikipedia.org/wiki/Histogram), each corresponding to a distinct section of the image, and uses them to redistribute the lightness values of the image. \n",
    " * It is therefore suitable for improving the local contract and enhancing the definitions of edges in each region of an image. \n",
    "    \n"
   ]
  },
  {
   "cell_type": "markdown",
   "metadata": {
    "pycharm": {
     "name": "#%%\n"
    },
    "slideshow": {
     "slide_type": "slide"
    }
   },
   "source": [
    "### CLAHE: Contrast-limited adaptive histogram equalization\n",
    "\n",
    "Continued from [Wikipedia](https://en.wikipedia.org/wiki/Adaptive_histogram_equalization):\n",
    "\n",
    " * AHE has a tendency to overamplify noise in relatively homogeneous regions of an image. \n",
    " * A variant of adaptive histogram equalization called contrast limited adaptive histogram equalization (CLAHE) prevents this by limiting the amplification.\n",
    "\n"
   ]
  },
  {
   "cell_type": "markdown",
   "metadata": {
    "slideshow": {
     "slide_type": "slide"
    }
   },
   "source": [
    "### FLCLAHE: Fully-localized contrast-limited adaptive histogram equalization\n",
    "\n",
    " * CLAHE can product uneven effects in images with very low contrast due to the histograms being re-used for each pixel in a window of pixels.\n",
    " * A more accurately enhanced image can be produced by producing a unique histogram for each pixel in the source image and calculating the cumulative distribution function on a per-pixel basis.\n",
    " * Such an algorithm would require considerable optimaization and tunint to execute in an efficient manner."
   ]
  },
  {
   "cell_type": "markdown",
   "metadata": {
    "slideshow": {
     "slide_type": "slide"
    }
   },
   "source": [
    "### Why bother with a Python Implementation?\n",
    "\n",
    " * Implementing this algorithm in Python could provide a reasonable pseudo-code-ish implementation for other implementations to be developed.\n",
    " * From this initial pure-Python implementation, subsequent implementatiosn could be refined to optimize performance or port to other frameworks and languages. \n",
    " * The purely-parallel, shared-nothing architecture of the problem provides an ideal use case for demonstrating parallel processing performance optimization techniques."
   ]
  },
  {
   "cell_type": "markdown",
   "metadata": {
    "pycharm": {
     "name": "#%%\n"
    },
    "slideshow": {
     "slide_type": "slide"
    }
   },
   "source": [
    "### FLCLAHE reference implementation signature\n",
    "```python\n",
    "def flclahe(\n",
    "    img: np.ndarray,     # a 2D NumPy array containing the image data\n",
    "    clip_limit: int = 8, # the maximum # of pixel counts to use for each pixel histogram bin\n",
    "    window: int = 64,    # the size in pixels of the square window around the target pixel to use\n",
    "                         # when calculating the pixel histogram\n",
    "    nbins: int = 256     # the # of bins to use when calculating the pixel histogram\n",
    ") -> np.ndarray:\n",
    "```\n",
    "\n",
    "We will provide a reference implementation signature for our prototypical FLCLAHE implementation. Each implementation will accept as its arguments:\n",
    "\n",
    " * img (np.ndarray): a 2D 8-bit or 16-bit (np.uint8 or np.uint16) NumPy array containing the image data\n",
    " * clip_limit (int): an optional integer value for the maximum # of pixel counts to use for each pixel histogram bin\n",
    " * window (int): an optional integer value for the size in pixels of the square window around the target pixel to use when calculating the pixel histogram\n",
    " * nbins (int): an optional integer value for the # of bins to use when calculating the pixel histogram\n",
    " \n",
    "The reference implementation should be expected to return a Numpy array of the same dtype and size as the source img."
   ]
  },
  {
   "cell_type": "markdown",
   "metadata": {
    "slideshow": {
     "slide_type": "slide"
    }
   },
   "source": [
    "```python\n",
    "# create the output array\n",
    "img_out = np.empty_like(img)\n",
    "\n",
    "# scale the provided clip limit by the window size\n",
    "clip_limit = int(ceil((clip_limit * (window ** 2)) / nbins))\n",
    "```\n",
    "\n",
    "First, we sanitize our inputs. We create an empty output array (using empty_like to skip initialization) and scale our provided clip_limit value by the window size. "
   ]
  },
  {
   "cell_type": "markdown",
   "metadata": {
    "slideshow": {
     "slide_type": "slide"
    }
   },
   "source": [
    "```python\n",
    "# loop through each row in the image\n",
    "for i in range(img.shape[0]):\n",
    "    \n",
    "    # calculate left index of the window, ensuring that it stays within the image boundaries\n",
    "    il = i - (window // 2)\n",
    "\n",
    "    # ensure that the left is never less than 0\n",
    "    if il < 0:\n",
    "        il = 0\n",
    "\n",
    "    # also ensure that the left is not greater than one window size from the edge\n",
    "    elif il >= img.shape[0] - window:\n",
    "        il = img.shape[0] - window\n",
    "\n",
    "    # add the window size to the left index to get the right index\n",
    "    ir = il + window\n",
    "```\n",
    "\n",
    "Then we begin looping through each row in the image. \n",
    "\n",
    "We start by calculating the 'left' and 'right' boundaries of our histogram window for this row, ensuring that the 'left' side is greater than 0 and at least one window from the outer edge. "
   ]
  },
  {
   "cell_type": "markdown",
   "metadata": {
    "slideshow": {
     "slide_type": "slide"
    }
   },
   "source": [
    "```python\n",
    "# loop through each column in the image\n",
    "for j in range(img.shape[1]):\n",
    "\n",
    "    # calculate left index of the window, ensuring that it stays within the image boundaries\n",
    "    jl = j - (window // 2)\n",
    "\n",
    "    # ensure that the left is never less than 0\n",
    "    if jl < 0:\n",
    "        jl = 0\n",
    "\n",
    "    # also ensure that the left is not greater than one window size from the edge\n",
    "    elif jl >= img.shape[1] - window:\n",
    "        jl = img.shape[1] - window\n",
    "\n",
    "    # add the window size to the left index to get the right index\n",
    "    jr = jl + window\n",
    "```\n",
    "\n",
    "Then we loop over each column of the image and calculate the 'left' and 'right' window indexes in the same way. "
   ]
  },
  {
   "cell_type": "markdown",
   "metadata": {
    "slideshow": {
     "slide_type": "slide"
    }
   },
   "source": [
    "```python\n",
    "# get the window region from the image\n",
    "region = img[il:ir, jl:jr]\n",
    "\n",
    "# initialize an empty array for the histogram\n",
    "hist = np.zeros(shape=(nbins, ), dtype=np.uint16)\n",
    "```\n",
    "\n",
    "Next, we get the 'region' of our histogram by applying our calculated left and right index values for i and j. \n",
    "\n",
    "We then initialize an NumPy array to hold our histogram with zeros. "
   ]
  },
  {
   "cell_type": "markdown",
   "metadata": {
    "slideshow": {
     "slide_type": "slide"
    }
   },
   "source": [
    "```python\n",
    "# calculate which bin this pixel should be placed in\n",
    "binned_value = ((img[i, j] - img.min()) * nbins) // (img.max() - img.min())\n",
    "\n",
    "# ensure that the binned_value is greater than 0\n",
    "if binned_value < 0:\n",
    "    binned_value = 0\n",
    "\n",
    "# also ensure that the binned_value is less than nbins\n",
    "elif binned_value >= nbins:\n",
    "    binned_value = nbins - 1\n",
    "```\n",
    "\n",
    "We next calculate which histogram 'bin' our current pixel would belong in. \n",
    "\n",
    "We also perform a sanity check to ensure that the calculated 'bin' is within the limits of the histogram array. "
   ]
  },
  {
   "cell_type": "markdown",
   "metadata": {
    "slideshow": {
     "slide_type": "slide"
    }
   },
   "source": [
    "```python\n",
    "# loop through each pixel in the region\n",
    "for ri in range(region.shape[0]):\n",
    "    for rj in range(region.shape[1]):\n",
    "\n",
    "        # calculate which bin this pixel should be placed in\n",
    "        b = ((region[ri, rj] - img.min()) * nbins) // (img.max() - img.min())\n",
    "\n",
    "        # ensure that the value of b is greater than 0\n",
    "        if b < 0:\n",
    "            b = 0\n",
    "\n",
    "        # also ensure that the value of b is less than nbins\n",
    "        elif b >= nbins:\n",
    "            b = nbins - 1\n",
    "\n",
    "        # increment the value for the histogram for this bin\n",
    "        hist[b] += 1\n",
    "```\n",
    "\n",
    "We loop through each pixel within the histogram region, performing the same 'bin' value calculation as we did before. \n",
    "\n",
    "We increment the count inside the histogram array for each calculated 'bin' value. "
   ]
  },
  {
   "cell_type": "markdown",
   "metadata": {
    "slideshow": {
     "slide_type": "slide"
    }
   },
   "source": [
    "```python\n",
    "# the pixels clipped to be redistributed across all bins\n",
    "excess = 0\n",
    "\n",
    "# the calculated look up table value\n",
    "lut = 0\n",
    "```\n",
    "\n",
    "Now that the histogram is calculated, we initialize some temporary values for the calculate LUT value for this pixel, and the values in excess of the clip limit that were discarded. "
   ]
  },
  {
   "cell_type": "markdown",
   "metadata": {
    "slideshow": {
     "slide_type": "slide"
    }
   },
   "source": [
    "```python\n",
    "# loop through each histogram bin\n",
    "for ii in range(nbins):\n",
    "\n",
    "    # if our bin is less than the image pixel intensity, we will increment the \"lut\"\n",
    "    if ii <= binned_value:\n",
    "\n",
    "        # if the histogram bin count is greater than clip_limit, add clip limit\n",
    "        if hist[ii] > clip_limit:\n",
    "            lut += clip_limit\n",
    "\n",
    "        # otherwise add the histogram value to the \"lut\"\n",
    "        else:\n",
    "            lut += hist[ii]\n",
    "\n",
    "    # if the histogram bin count is greater than the clip limit, add save the excess\n",
    "    if hist[ii] > clip_limit:\n",
    "        excess += (hist[ii] - clip_limit)\n",
    "```\n",
    "\n",
    "Now, we loop through each histogram 'bin' index. If the index is less than our pixel's bin index, then we will add the histogram count to the LUT variable. \n",
    "\n",
    "If the histogram count is greater than the clip limit, then we add the clip limit instead of the histogram count. \n",
    "\n",
    "Finally, if the histogram count was greater than the clip limit, we add the remainder of the histogram count and the clip limit to the excess variable. "
   ]
  },
  {
   "cell_type": "markdown",
   "metadata": {
    "slideshow": {
     "slide_type": "slide"
    }
   },
   "source": [
    "```python\n",
    "# start the new value with the value of the \"lut\"\n",
    "new_value = lut\n",
    "\n",
    "# multiply the new value by the number of histogram bins minus one\n",
    "new_value *= (nbins - 1)\n",
    "\n",
    "# add the excess \"counts\" times the image pixel bin value\n",
    "new_value += (excess * binned_value)\n",
    "\n",
    "# divide the new value by the number of pixels in the window\n",
    "new_value //= (window ** 2)\n",
    "\n",
    "# write the new value ot the image\n",
    "img_out[i, j] = new_value\n",
    "```\n",
    "\n",
    "Lastly, we calculate a new value for our pixel. \n",
    "\n",
    "We initialize the new value to the LUT value, then we multiply that value by the maximum bin index. \n",
    "\n",
    "We add the excess counts times the pixel's binned value. \n",
    "\n",
    "We then divide the new pixel value by the window size squared. \n",
    "\n",
    "Finally, we write the new pixel value out to the output image. "
   ]
  },
  {
   "cell_type": "markdown",
   "metadata": {
    "slideshow": {
     "slide_type": "slide"
    }
   },
   "source": [
    "```python\n",
    "# return the processed image\n",
    "return img_out\n",
    "```\n",
    "\n",
    "Lastly, we return the processed image after looping through every pixel. "
   ]
  },
  {
   "cell_type": "code",
   "execution_count": null,
   "metadata": {
    "slideshow": {
     "slide_type": "slide"
    }
   },
   "outputs": [],
   "source": []
  }
 ],
 "metadata": {
  "celltoolbar": "Slideshow",
  "kernelspec": {
   "display_name": "Python 3",
   "language": "python",
   "name": "python3"
  },
  "language_info": {
   "codemirror_mode": {
    "name": "ipython",
    "version": 3
   },
   "file_extension": ".py",
   "mimetype": "text/x-python",
   "name": "python",
   "nbconvert_exporter": "python",
   "pygments_lexer": "ipython3",
   "version": "3.8.3"
  }
 },
 "nbformat": 4,
 "nbformat_minor": 1
}